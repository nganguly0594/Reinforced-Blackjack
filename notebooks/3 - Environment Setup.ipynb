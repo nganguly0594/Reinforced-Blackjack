{
 "cells": [
  {
   "cell_type": "markdown",
   "metadata": {},
   "source": [
    "## 3 - Setting Up the RL Agent Training Environment\n",
    "\n",
    "In this section, I go through a few different potential playing strategies for blackjack and offer an analysis on each of them. Namely, the 3 strategies I will test are a Discrete Standing Strategy, a Stochastic Standing Strategy, and probably the most well-known and mathematically proven strategy known as of today, the Basic Strategy. (Another more complex strategy based off of Basic Strategy involves a concept called \"card counting\" which I will not be showing.)"
   ]
  },
  {
   "cell_type": "markdown",
   "metadata": {},
   "source": [
    "take the stuff from gym.ipynb on how i set up this env and also no splitting in this environment, maybe add one for splitting later"
   ]
  }
 ],
 "metadata": {
  "language_info": {
   "name": "python"
  }
 },
 "nbformat": 4,
 "nbformat_minor": 2
}
