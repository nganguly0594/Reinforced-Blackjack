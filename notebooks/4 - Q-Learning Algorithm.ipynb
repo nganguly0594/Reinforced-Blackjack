{
 "cells": [
  {
   "cell_type": "markdown",
   "metadata": {},
   "source": [
    "## 4 - Implementing the Q-Learning Algorithm\n",
    "\n",
    "This final notebook deals with the actual process of creating a reinforcement learning agent for the task of playing Blackjack. There are many types of reinforcement learning algorithms available, and the one I chose to implement in this project is Q-Learning. Q-Learning is a straightforward approach to the process of reinforcement learning, and it essentially increases and decreases the probability of picking a certain action at a certain state based on past rewards."
   ]
  },
  {
   "cell_type": "code",
   "execution_count": 1,
   "metadata": {},
   "outputs": [],
   "source": [
    "import sys\n",
    "sys.path.append('../src')\n",
    "\n",
    "from environment import BlackjackEnv\n",
    "from tqdm import tqdm\n",
    "import numpy as np\n",
    "import pandas as pd\n",
    "import matplotlib.pyplot as plt"
   ]
  },
  {
   "cell_type": "markdown",
   "metadata": {},
   "source": [
    "### Important Variables\n",
    "\n",
    "<img src=\"https://miro.medium.com/v2/resize:fit:1000/format:webp/1*YR4TNCFOxPe0BSxgcdQyIA.png\" alt=\"Blackjack basic strategy chart\" /> <br>\n",
    "*Image credit: [Udacity](https://github.com/udacity/deep-reinforcement-learning/blob/master/cheatsheet/cheatsheet.pdf)*\n",
    "\n",
    "The first variable required in the Q-Learning process is a `Q_table`. This table is initialized with all zeros, and it represents the learned or accumulated values of all the previous rewards from taking specific actions. The table is 2-dimensional, where the first dimension represents every possible state that can be observed in our environment, and the second dimension represents all our possible actions at every state. Our Blackjack environment has 25 distinct hand totals * 10 distinct dealer up-cards = 250 possible states, and for each state, we have 3 different actions, which are hit, stand, and double down. As a result, our `Q_table` will have dimensions of 250 x 3.\n",
    "\n",
    "The next variable we need to instantiate is a `prob_table`. This table contains the probabilities of picking every different action at all given environment states, so it will have the same shape as our `Q_table`, which is 250 x 3. These probabilities will all be initialized with 1/3, as each state has 3 possible actions, each with an equal 33.3% chance of being picked.\n",
    "\n",
    "Now we need to define some rate variables. The first one is `alpha`, which, in all machine learning tasks, is commonly referred to as the \"learning rate.\" This learning rate will dictate how slow or fast our algorithm will learn based off of the rewards that it receives for taking certain actions. This variable is extremely important to the learning process, as a learning rate which is too large might cause our algorithm to overshoot and assign too much importance to a specific action. On the other hand, a learning rate which is too small might cause our model to barely have made any progress by the time we have completed our training. For our purposes, I am choosing to train the algorithm over 10_000_000 `episodes` (rounds of Blackjack), so after some experimentation I have settled on an `alpha` value of 0.001.\n",
    "\n",
    "Next, we have the `epsilon` value, which is essential for a Q-Learning algorithm. This variable will determine whether our model will \"explore\" new actions or \"exploit\" past results at previously visited states. This \"explore or exploit\" approach is essential in probabilistic situations, as although hitting at a hand total of 20 and receiving an Ace might reward our model with a win, it is self-explanatory that always hitting at a total of 20 would be a bad choice. Thus, the `epsilon` value allows our model to still try actions even if it believes that a different action is better by carefully adjusting the probabilities of each action being selected. However, in this implementation, we will be decaying the `epsilon` value by a set `EPSILON_DECAY` amount until it eventually reaches a `MINIMUM_EPSILON` value. This will allow our model to explore other actions more in the beginning stages of the training, and then exploit and solidify its previously gleaned knowledge in the later stages of training. I have decided to start the `epsilon` value at 0.9999 and decay it by 0.000001 every episode until it reaches a minimum value of 0.5.\n",
    "\n",
    "The final variable left to define is `gamma`, also known as the discount rate. The approach that I am using for this problem is called a \"First Visit Monte Carlo Algorithm\" (as opposed to an \"Every Visit Monte Carlo Algorithm\"). This name implies that during every episode, we will give importance to every consecutive action taken in order to get to the end reward, whether it be a win or loss. Hence, although our algorithm might win a round of Blackjack by hitting 3 times and only receiving a reward on the third hit, there will still be a reward given for both the first and second hitting occurrences too. Conversely, in the \"Every Visit\" approach, only the current action's rewards are used to calculate the efficacy of an action, leading to no reward being delivered for the first 2 actions in the round. The `gamma` rate will recursively go through each action in the round from start to end and apply a discount to every future reward in the round. This means that although the first hitting action in our example didn't yield the final reward, there will be a discounted reward applied to the first action for being a step along the way towards the winning state."
   ]
  },
  {
   "cell_type": "markdown",
   "metadata": {},
   "source": [
    "## Defining One Round\n",
    "\n",
    "With all our variable definitions, we can first create a function to simulate the running of one round of Blackjack in our environment. We use our `Q_table` and provided \"action mask\" to pick the best legal action to take every round. Then, we use the probability of the action from the `prob_table` to determine whether we will exploit the best action or explore other possible actions. Finally, we save every tuple of (state, action, reward) triples within a list of episode states and return it."
   ]
  },
  {
   "cell_type": "code",
   "execution_count": 2,
   "metadata": {},
   "outputs": [],
   "source": [
    "def run_episode(env, Q_table, prob_table):\n",
    "    episode_states = []\n",
    "\n",
    "    state, info = env.reset()\n",
    "\n",
    "    while not env.done:\n",
    "        # When the agent has a Blackjack starting hand,\n",
    "        # there is no action to take and nothing to learn\n",
    "        if state[0] == 25:\n",
    "            # Just complete a random action to finish the episode\n",
    "            _, _, env.done, _, _ = env.step(0)\n",
    "        else:\n",
    "            # Get the state from the Q-table by multiplying the player hand\n",
    "            # number with the second dimension and adding the dealer up-card\n",
    "            # number, similar to process of flattening (x, y) coordinates\n",
    "            Q_index = state[0] * env.observation_space[1].n + state[1]\n",
    "\n",
    "            valid_indices = np.where(info[\"action_mask\"] == 1)[0]  # Find legal actions\n",
    "\n",
    "            action = np.argmax(Q_table[Q_index, valid_indices])  # Pick best action\n",
    "\n",
    "            action_prob = prob_table[Q_index][action]\n",
    "\n",
    "            # Only pick the best action if within probability\n",
    "            if np.random.rand() < action_prob:\n",
    "                final_action = action\n",
    "            else:  # Otherwise keep exploring \n",
    "                final_action = np.random.choice(valid_indices[valid_indices != action])\n",
    "\n",
    "            new_state, reward, _, _, info = env.step(final_action)\n",
    "\n",
    "            # Add current information to list\n",
    "            episode_states.append((state, final_action, reward))\n",
    "\n",
    "            state = new_state\n",
    "        \n",
    "    return episode_states"
   ]
  },
  {
   "cell_type": "markdown",
   "metadata": {},
   "source": [
    "## Variable Update Functions\n",
    "\n",
    "In order to keep track of and update our 2 tables after each episode, I decided to create a function for each of them. The first is the `update_Q_table()` function, which takes the environment, the list of episode states, and the Q-table, along with the alpha and gamma rates. This function loops through each triple in the episode states, and then loops through each triple from the current state till the end to accumulate the exponentially discounted rewards at each state. Then it calculates what is known as a \"temporal difference\" (which is the learning rate multiplied by the difference in reward and current Q-value) and adds it to the current Q-value in the Q-table.\n",
    "\n",
    "The second function is the `update_prob_table()` function, which also takes the environment, the list of episode states, and the Q-table, but also the probability table and the `epsilon` value. This function again loops through the list of states, however, for each state, it finds the best action with the Q-table and increments the probability by (1 - `epsilon`). Finally, it adjusts the other probabilities for that state to make sure all the probabilities still add to 1."
   ]
  },
  {
   "cell_type": "code",
   "execution_count": 3,
   "metadata": {},
   "outputs": [],
   "source": [
    "def update_Q_table(env, episode_states, Q_table, alpha, gamma):\n",
    "    # Loop through every triple in list of states\n",
    "    for round, (state, action, _) in enumerate(episode_states):\n",
    "        total_reward = 0  # Initialize reward for current state-action pair\n",
    "\n",
    "        # Loop through all states from current round to end\n",
    "        for gamma_exponent, (_, _, round_reward) in enumerate(episode_states[round:]):\n",
    "            # Add reward gained by each following round multiplied by (discount rate)^round\n",
    "            total_reward += (gamma ** gamma_exponent) * round_reward\n",
    "\n",
    "        Q_index = state[0] * env.observation_space[1].n + state[1]\n",
    "        \n",
    "        # Increment Q-value in table with temporal difference error\n",
    "        Q_table[Q_index][action] += alpha * (total_reward - Q_table[Q_index][action])\n",
    "\n",
    "def update_prob_table(env, episode_states, Q_table, prob_table, epsilon):\n",
    "    # Loop through every triple in list of states\n",
    "    for state, _, _ in episode_states:\n",
    "        Q_index = state[0] * env.observation_space[1].n + state[1]\n",
    "\n",
    "        action = np.argmax(Q_table[Q_index])  # Find best action\n",
    "\n",
    "        initial_value = prob_table[Q_index][action]\n",
    "\n",
    "        # Sets new probability to current probability + 1 - epsilon (upper bound of 1)\n",
    "        prob_table[Q_index][action] = min(1, prob_table[Q_index][action] + 1 - epsilon)\n",
    "\n",
    "        # Calculates amount to subtract from other probabilities\n",
    "        other_prob_change = (prob_table[Q_index][action] - initial_value) / 2\n",
    "\n",
    "        # Finds right values to subtract from\n",
    "        mask = np.arange(3)[np.arange(3) != action]\n",
    "\n",
    "        prob_table[Q_index, mask] -= other_prob_change"
   ]
  },
  {
   "cell_type": "code",
   "execution_count": 4,
   "metadata": {},
   "outputs": [],
   "source": [
    "def run_training(env, episodes):\n",
    "    Q_table = np.zeros((env.observation_space[0].n * env.observation_space[1].n, env.action_space.n), dtype=np.float16)\n",
    "    prob_table = np.full_like(Q_table, 1 / 3, dtype=np.float16)\n",
    "\n",
    "    alpha = 0.001\n",
    "    gamma = 0.7\n",
    "    epsilon = 0.9999\n",
    "    MINIMUM_EPSILON = 0.5\n",
    "    EPSILON_DECAY = 0.000001\n",
    "\n",
    "    for _ in tqdm(range(episodes)):\n",
    "        episode_states = run_episode(env, Q_table, prob_table)\n",
    "\n",
    "        epsilon = max(epsilon - EPSILON_DECAY, MINIMUM_EPSILON)\n",
    "\n",
    "        update_Q_table(env, episode_states, Q_table, alpha, gamma)\n",
    "        update_prob_table(env, episode_states, Q_table, prob_table, epsilon)\n",
    "\n",
    "    return Q_table"
   ]
  },
  {
   "cell_type": "code",
   "execution_count": 6,
   "metadata": {},
   "outputs": [
    {
     "name": "stderr",
     "output_type": "stream",
     "text": [
      "100%|██████████| 10000000/10000000 [03:30<00:00, 47518.37it/s]\n"
     ]
    }
   ],
   "source": [
    "env = BlackjackEnv()\n",
    "\n",
    "Q_table = run_training(env, 10000000)"
   ]
  },
  {
   "cell_type": "code",
   "execution_count": 7,
   "metadata": {},
   "outputs": [
    {
     "data": {
      "image/png": "[encoded data removed]",
      "text/plain": [
       "<Figure size 800x800 with 1 Axes>"
      ]
     },
     "metadata": {},
     "output_type": "display_data"
    }
   ],
   "source": [
    "row_labels = list(range(4, 21)) + [f'A, {x}' for x in list(range(2, 10))]\n",
    "col_labels = list(range(2, 11)) + ['A']\n",
    "\n",
    "df = pd.DataFrame(index=row_labels, columns=col_labels)\n",
    "colors = []\n",
    "\n",
    "action_map = {0: 'H', 1: 'S', 2: 'D'}\n",
    "color_map = {'H': '#7495BD', 'S': '#E0E1E1', 'D': '#A3C165'}\n",
    "\n",
    "for i, hand in enumerate(row_labels):\n",
    "    colors.append([])\n",
    "    for j, up_card in enumerate(col_labels):\n",
    "        action = action_map[np.argmax(Q_table[i * 10 + j])]\n",
    "        df.loc[hand, up_card] = action\n",
    "        colors[i].append(color_map[action])\n",
    "\n",
    "fig, ax = plt.subplots(figsize=(8,8))\n",
    "\n",
    "fig.patch.set_visible(False)\n",
    "ax.axis('off')\n",
    "ax.axis('tight')\n",
    "\n",
    "ax.table(\n",
    "    cellText=df.values,\n",
    "    cellColours=colors,\n",
    "    cellLoc='center',\n",
    "    colLabels=col_labels,\n",
    "    colColours=['#EF7E54' for _ in range(len(col_labels))],\n",
    "    rowLabels=row_labels,\n",
    "    rowColours=['#B3B3B3' for _ in range(len(row_labels))],\n",
    "    loc='center'\n",
    ")\n",
    "\n",
    "fig.tight_layout()\n",
    "plt.show()"
   ]
  },
  {
   "cell_type": "code",
   "execution_count": 8,
   "metadata": {},
   "outputs": [],
   "source": [
    "def test_avg_winnings(env):\n",
    "    total_rewards = 0\n",
    "    episodes = 10000000\n",
    "\n",
    "    for _ in tqdm(range(episodes)):\n",
    "        state, info = env.reset()\n",
    "\n",
    "        while env.done == False:\n",
    "            if state[0] == 25:\n",
    "                _, reward, _, _, _ = env.step(1)\n",
    "                total_rewards += reward\n",
    "            else:\n",
    "                Q_index = state[0] * env.observation_space[1].n + state[1]\n",
    "                action = np.argmax(Q_table[Q_index, np.where(info[\"action_mask\"] == 1)[0]])\n",
    "\n",
    "                new_state, reward, _, _, info = env.step(action)\n",
    "                state = new_state\n",
    "                total_rewards += reward\n",
    "            \n",
    "    avg_reward = total_rewards / episodes\n",
    "    return f'{avg_reward * 100:.2f}'"
   ]
  },
  {
   "cell_type": "code",
   "execution_count": 9,
   "metadata": {},
   "outputs": [
    {
     "name": "stdout",
     "output_type": "stream",
     "text": [
      "For a 100 dollar bet:\n"
     ]
    },
    {
     "name": "stderr",
     "output_type": "stream",
     "text": [
      "100%|██████████| 10000000/10000000 [01:45<00:00, 95145.61it/s]\n"
     ]
    },
    {
     "name": "stdout",
     "output_type": "stream",
     "text": [
      "Average win/loss in a 1:1 blackjack payout is -5.59\n"
     ]
    },
    {
     "name": "stderr",
     "output_type": "stream",
     "text": [
      "100%|██████████| 10000000/10000000 [01:44<00:00, 95761.09it/s]"
     ]
    },
    {
     "name": "stdout",
     "output_type": "stream",
     "text": [
      "Average win/loss in a 3:2 blackjack payout is -0.53\n"
     ]
    },
    {
     "name": "stderr",
     "output_type": "stream",
     "text": [
      "\n"
     ]
    }
   ],
   "source": [
    "regular_env = BlackjackEnv()\n",
    "higher_payout_env = BlackjackEnv(higher_payout=True)\n",
    "\n",
    "print('For a 100 dollar bet:')\n",
    "print('Average win/loss in a 1:1 blackjack payout is', test_avg_winnings(regular_env))\n",
    "print('Average win/loss in a 3:2 blackjack payout is', test_avg_winnings(higher_payout_env))"
   ]
  }
 ],
 "metadata": {
  "kernelspec": {
   "display_name": "blackjack",
   "language": "python",
   "name": "python3"
  },
  "language_info": {
   "codemirror_mode": {
    "name": "ipython",
    "version": 3
   },
   "file_extension": ".py",
   "mimetype": "text/x-python",
   "name": "python",
   "nbconvert_exporter": "python",
   "pygments_lexer": "ipython3",
   "version": "3.12.4"
  }
 },
 "nbformat": 4,
 "nbformat_minor": 2
}
